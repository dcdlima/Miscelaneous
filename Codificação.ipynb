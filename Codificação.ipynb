{
  "nbformat": 4,
  "nbformat_minor": 0,
  "metadata": {
    "colab": {
      "provenance": [],
      "authorship_tag": "ABX9TyMwr9VUUGnnfbCYZGwJyx1W",
      "include_colab_link": true
    },
    "kernelspec": {
      "name": "python3",
      "display_name": "Python 3"
    },
    "language_info": {
      "name": "python"
    }
  },
  "cells": [
    {
      "cell_type": "markdown",
      "metadata": {
        "id": "view-in-github",
        "colab_type": "text"
      },
      "source": [
        "<a href=\"https://colab.research.google.com/github/dcdlima/Miscelaneous/blob/main/Codifica%C3%A7%C3%A3o.ipynb\" target=\"_parent\"><img src=\"https://colab.research.google.com/assets/colab-badge.svg\" alt=\"Open In Colab\"/></a>"
      ]
    },
    {
      "cell_type": "code",
      "execution_count": 21,
      "metadata": {
        "colab": {
          "base_uri": "https://localhost:8080/"
        },
        "id": "to9fjk0wZnYf",
        "outputId": "fc682219-6aeb-48f2-94c1-873614cd319d"
      },
      "outputs": [
        {
          "output_type": "execute_result",
          "data": {
            "text/plain": [
              "{'encoding': 'utf-8', 'confidence': 0.99, 'language': ''}"
            ]
          },
          "metadata": {},
          "execution_count": 21
        }
      ],
      "source": [
        "### Código para saber a codificação utilizada em um site ou documento (um documento por vez)\n",
        "\n",
        "import urllib.request\n",
        "import requests\n",
        "url = 'https://www.bing.com/search?q=HTTP%20Error%20403%3A%20Forbidden%20python&qs=n&form=QBRE&sp=-1&ghc=1&lq=0&pq=http%20error%20403%3A%20forbidden%20python&sc=11-32&sk=&cvid=66C7079D04584D7A8288F885BD50843E'\n",
        "headers={'User-Agent': 'Mozilla/5.0'}\n",
        "req = requests.get(url=url, headers=headers)\n",
        "\n",
        "import chardet\n",
        "chardet.detect(req.content)\n",
        "\n",
        "\n"
      ]
    }
  ]
}